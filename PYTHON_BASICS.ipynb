{
  "nbformat": 4,
  "nbformat_minor": 0,
  "metadata": {
    "colab": {
      "provenance": []
    },
    "kernelspec": {
      "name": "python3",
      "display_name": "Python 3"
    },
    "language_info": {
      "name": "python"
    }
  },
  "cells": [
    {
      "cell_type": "markdown",
      "source": [
        "#PYTHON BASICS"
      ],
      "metadata": {
        "id": "wYAIYTDJJWoW"
      }
    },
    {
      "cell_type": "markdown",
      "source": [
        "QUESTIONS"
      ],
      "metadata": {
        "id": "waKqCr0BUKHm"
      }
    },
    {
      "cell_type": "code",
      "execution_count": 1,
      "metadata": {
        "colab": {
          "base_uri": "https://localhost:8080/",
          "height": 55
        },
        "id": "7wpMTTPLJU-4",
        "outputId": "2723b101-7396-485e-c814-042befc71283"
      },
      "outputs": [
        {
          "output_type": "execute_result",
          "data": {
            "text/plain": [
              "\"\\nPython is a popular and easy-to-learn programming language that's used for many different things. People like it because it's simple to read and write, and it has lots of tools (called libraries) that make it useful for building websites, analyzing data, creating machine learning models, and much more.\\n\""
            ],
            "application/vnd.google.colaboratory.intrinsic+json": {
              "type": "string"
            }
          },
          "metadata": {},
          "execution_count": 1
        }
      ],
      "source": [
        "#What is Python, and why is it popular?\n",
        "\"\"\"\n",
        "Python is a popular and easy-to-learn programming language that's used for many different things. People like it because it's simple to read and write, and it has lots of tools (called libraries) that make it useful for building websites, analyzing data, creating machine learning models, and much more.\n",
        "\"\"\""
      ]
    },
    {
      "cell_type": "code",
      "source": [
        "# What is an interpreter in Python?\n",
        "\"\"\"\n",
        "A Python interpreter is a tool that reads and runs your Python code line by line. You don’t have to convert your code into a separate file for the computer to understand the interpreter takes care of that and runs it directly.\n",
        "\"\"\""
      ],
      "metadata": {
        "colab": {
          "base_uri": "https://localhost:8080/",
          "height": 55
        },
        "id": "AQw2lziLJf6S",
        "outputId": "d6efdf00-7dc9-470e-82e0-0015ec39c609"
      },
      "execution_count": 2,
      "outputs": [
        {
          "output_type": "execute_result",
          "data": {
            "text/plain": [
              "'\\nA Python interpreter is a tool that reads and runs your Python code line by line. You don’t have to convert your code into a separate file for the computer to understand the interpreter takes care of that and runs it directly.\\n'"
            ],
            "application/vnd.google.colaboratory.intrinsic+json": {
              "type": "string"
            }
          },
          "metadata": {},
          "execution_count": 2
        }
      ]
    },
    {
      "cell_type": "code",
      "source": [
        "#What are pre-defined keywords in Python?\n",
        "\"\"\"\n",
        "Pre-defined keywords in Python are special words that have specific meanings. You can’t use them for variable names because Python uses them to understand your code. For Example If, While, For, True, None.\n",
        "\"\"\""
      ],
      "metadata": {
        "colab": {
          "base_uri": "https://localhost:8080/",
          "height": 55
        },
        "id": "qqD9KNMWKCJc",
        "outputId": "3e482912-ae44-4d62-e86a-330d88cda1a7"
      },
      "execution_count": 3,
      "outputs": [
        {
          "output_type": "execute_result",
          "data": {
            "text/plain": [
              "'\\nPre-defined keywords in Python are special words that have specific meanings. You can’t use them for variable names because Python uses them to understand your code. For Example If, While, For, True, None. \\n'"
            ],
            "application/vnd.google.colaboratory.intrinsic+json": {
              "type": "string"
            }
          },
          "metadata": {},
          "execution_count": 3
        }
      ]
    },
    {
      "cell_type": "code",
      "source": [
        "#Can keywords be used as variable names?\n",
        "\"\"\"\n",
        "No, Key words can not used as a variable name as they are reserved for specific commands and functions only.\n",
        "\"\"\""
      ],
      "metadata": {
        "colab": {
          "base_uri": "https://localhost:8080/",
          "height": 36
        },
        "id": "llivwVAVK5kX",
        "outputId": "9d8d71fa-1501-41fb-9cc7-fe2cd1b95260"
      },
      "execution_count": 4,
      "outputs": [
        {
          "output_type": "execute_result",
          "data": {
            "text/plain": [
              "'\\nNo, Key words can not used as a variable name as they are reserved for specific commands and functions only. \\n'"
            ],
            "application/vnd.google.colaboratory.intrinsic+json": {
              "type": "string"
            }
          },
          "metadata": {},
          "execution_count": 4
        }
      ]
    },
    {
      "cell_type": "code",
      "source": [
        "#What is mutability in Python?\n",
        "\"\"\"\n",
        "Mutability means whether a value can be changed after it's creadted.\n",
        "\"\"\""
      ],
      "metadata": {
        "colab": {
          "base_uri": "https://localhost:8080/",
          "height": 36
        },
        "id": "SwZ30XVeLliD",
        "outputId": "99c4c1f3-b171-4b98-aa22-8b7dc417b607"
      },
      "execution_count": 5,
      "outputs": [
        {
          "output_type": "execute_result",
          "data": {
            "text/plain": [
              "\"\\nMutability means whether a value can be changed after it's creadted. \\n\""
            ],
            "application/vnd.google.colaboratory.intrinsic+json": {
              "type": "string"
            }
          },
          "metadata": {},
          "execution_count": 5
        }
      ]
    },
    {
      "cell_type": "code",
      "source": [
        "#Why are lists mutable, but tuples are immutable?\n",
        "\"\"\"\n",
        "Lists are mutable because they’re designed to let you change, add, or remove items after the list is created. Tuples are immutable because they are meant to be fixed and unchangeable, which makes them faster and safer to use when you don’t want data to be altered.\n",
        "\"\"\""
      ],
      "metadata": {
        "colab": {
          "base_uri": "https://localhost:8080/",
          "height": 55
        },
        "id": "xWVtBKgTMvZ2",
        "outputId": "c3a5b781-40fe-44bf-96c9-ada702b657c9"
      },
      "execution_count": 6,
      "outputs": [
        {
          "output_type": "execute_result",
          "data": {
            "text/plain": [
              "'\\nLists are mutable because they’re designed to let you change, add, or remove items after the list is created. Tuples are immutable because they are meant to be fixed and unchangeable, which makes them faster and safer to use when you don’t want data to be altered.\\n'"
            ],
            "application/vnd.google.colaboratory.intrinsic+json": {
              "type": "string"
            }
          },
          "metadata": {},
          "execution_count": 6
        }
      ]
    },
    {
      "cell_type": "code",
      "source": [
        "#What is the difference between “==” and “is” operators in Python?\n",
        "\"\"\"\n",
        "In Python\n",
        "'==' Checks values are equal\n",
        "'is' Checks if both are the same obeject in memory.\n",
        "\"\"\""
      ],
      "metadata": {
        "colab": {
          "base_uri": "https://localhost:8080/",
          "height": 36
        },
        "id": "JSBMnq_XNh3B",
        "outputId": "d1c45cf0-ac48-48b5-d8bb-cda1e24f9568"
      },
      "execution_count": 8,
      "outputs": [
        {
          "output_type": "execute_result",
          "data": {
            "text/plain": [
              "\"\\nIn Python \\n'==' Checks values are equal \\n'is' Checks if both are the same obeject in memory.\\n\""
            ],
            "application/vnd.google.colaboratory.intrinsic+json": {
              "type": "string"
            }
          },
          "metadata": {},
          "execution_count": 8
        }
      ]
    },
    {
      "cell_type": "code",
      "source": [
        "#What are logical operators in Python?\n",
        "\"\"\"\n",
        "Logical operater in python are used to combine or compare conditions. The main ones are True, Or, Not.\n",
        "\"\"\""
      ],
      "metadata": {
        "colab": {
          "base_uri": "https://localhost:8080/",
          "height": 36
        },
        "id": "vDt6QAa6OOln",
        "outputId": "27e7fb32-bbce-4105-be10-a1ca628f37ba"
      },
      "execution_count": 9,
      "outputs": [
        {
          "output_type": "execute_result",
          "data": {
            "text/plain": [
              "'\\nLogical operater in python are used to combine or compare conditions. The main ones are True, Or, Not.\\n'"
            ],
            "application/vnd.google.colaboratory.intrinsic+json": {
              "type": "string"
            }
          },
          "metadata": {},
          "execution_count": 9
        }
      ]
    },
    {
      "cell_type": "code",
      "source": [
        "#What is type casting in Python?\n",
        "\"\"\"\n",
        "Type casting in python means converting a value from one data type to another.\n",
        "\"\"\""
      ],
      "metadata": {
        "colab": {
          "base_uri": "https://localhost:8080/",
          "height": 36
        },
        "id": "oUS1JKa9PNs1",
        "outputId": "dec55d73-216f-4cb7-fc57-547a5700dfcb"
      },
      "execution_count": 10,
      "outputs": [
        {
          "output_type": "execute_result",
          "data": {
            "text/plain": [
              "'\\nType casting in python means converting a value from one data type to another.\\n'"
            ],
            "application/vnd.google.colaboratory.intrinsic+json": {
              "type": "string"
            }
          },
          "metadata": {},
          "execution_count": 10
        }
      ]
    },
    {
      "cell_type": "code",
      "source": [
        "#What is the difference between implicit and explicit type casting?\n",
        "\"\"\"\n",
        "Implicit type casting refers where python Does it for you automatically. On the other hand explicit type casting refers where you manually convert from one type to another using functions.\n",
        "\"\"\""
      ],
      "metadata": {
        "colab": {
          "base_uri": "https://localhost:8080/",
          "height": 55
        },
        "id": "3FPAQusbP7WR",
        "outputId": "0aa07d8d-76d6-494e-cba0-d5a631048bb3"
      },
      "execution_count": 11,
      "outputs": [
        {
          "output_type": "execute_result",
          "data": {
            "text/plain": [
              "'\\nImplicit type casting refers where python Does it for you automatically. On the other hand explicit type casting refers where you manually convert from one type to another using functions.\\n'"
            ],
            "application/vnd.google.colaboratory.intrinsic+json": {
              "type": "string"
            }
          },
          "metadata": {},
          "execution_count": 11
        }
      ]
    },
    {
      "cell_type": "code",
      "source": [
        "#What is the purpose of conditional statements in Python?\n",
        "\"\"\"\n",
        "The purpose of conditional statements in Python is to let your program make decisions.They allow the code to run only if certain conditions are true.\n",
        "\"\"\""
      ],
      "metadata": {
        "colab": {
          "base_uri": "https://localhost:8080/",
          "height": 36
        },
        "id": "kQYmKIsQRcpZ",
        "outputId": "e1643d84-9110-455a-908c-f22db760c04a"
      },
      "execution_count": 12,
      "outputs": [
        {
          "output_type": "execute_result",
          "data": {
            "text/plain": [
              "'\\nThe purpose of conditional statements in Python is to let your program make decisions.\\n'"
            ],
            "application/vnd.google.colaboratory.intrinsic+json": {
              "type": "string"
            }
          },
          "metadata": {},
          "execution_count": 12
        }
      ]
    },
    {
      "cell_type": "code",
      "source": [
        "#How does the elif statement work?\n",
        "\"\"\"\n",
        "The \"elif' statement in the python 'else if'. It lets you check multiple conditions one by one. If the first 'if' isn’t true, Python checks the 'elif'. If none of them are true, it goes to the else.\n",
        "\"\"\""
      ],
      "metadata": {
        "colab": {
          "base_uri": "https://localhost:8080/",
          "height": 55
        },
        "id": "XcdDAVG6SAkf",
        "outputId": "49989f0a-66cf-4338-ba2e-d8285f49e501"
      },
      "execution_count": 13,
      "outputs": [
        {
          "output_type": "execute_result",
          "data": {
            "text/plain": [
              "'\\nThe \"elif\\' statement in the python \\'else if\\'. It lets you check multiple conditions one by one. If the first \\'if\\' isn’t true, Python checks the \\'elif\\'. If none of them are true, it goes to the else.\\n'"
            ],
            "application/vnd.google.colaboratory.intrinsic+json": {
              "type": "string"
            }
          },
          "metadata": {},
          "execution_count": 13
        }
      ]
    },
    {
      "cell_type": "code",
      "source": [
        "#What is the difference between for and while loops?\n",
        "\"\"\"\n",
        "The main difference between for and while loops in Python is how they control repetition:\n",
        "-A for loop is used when you know in advance how many times you want to repeat something.\n",
        "-A while loop is used when you want to keep repeating something as long as a condition stays true.\n",
        "\"\"\""
      ],
      "metadata": {
        "colab": {
          "base_uri": "https://localhost:8080/",
          "height": 55
        },
        "id": "zihU1UXKSzTn",
        "outputId": "fde78c5f-7292-4110-d7de-d4f959073347"
      },
      "execution_count": 14,
      "outputs": [
        {
          "output_type": "execute_result",
          "data": {
            "text/plain": [
              "'\\nThe main difference between for and while loops in Python is how they control repetition:\\n-A for loop is used when you know in advance how many times you want to repeat something.\\n-A while loop is used when you want to keep repeating something as long as a condition stays true.\\n'"
            ],
            "application/vnd.google.colaboratory.intrinsic+json": {
              "type": "string"
            }
          },
          "metadata": {},
          "execution_count": 14
        }
      ]
    },
    {
      "cell_type": "code",
      "source": [
        "#Describe a scenario where a while loop is more suitable than a for loop\n",
        "\"\"\"\n",
        "if you're asking a user to enter a correct password, and you want to keep asking until they get it right — you don’t know how many tries they'll need. In that case, a while loop works better because it runs based on a condition, not a fixed number of times.\n",
        "\"\"\""
      ],
      "metadata": {
        "colab": {
          "base_uri": "https://localhost:8080/",
          "height": 55
        },
        "id": "H2MSus2pTlXD",
        "outputId": "919a65c6-e4ae-4735-9083-de8c4da452e5"
      },
      "execution_count": 16,
      "outputs": [
        {
          "output_type": "execute_result",
          "data": {
            "text/plain": [
              "\"\\nif you're asking a user to enter a correct password, and you want to keep asking until they get it right — you don’t know how many tries they'll need. In that case, a while loop works better because it runs based on a condition, not a fixed number of times.\\n\""
            ],
            "application/vnd.google.colaboratory.intrinsic+json": {
              "type": "string"
            }
          },
          "metadata": {},
          "execution_count": 16
        }
      ]
    },
    {
      "cell_type": "markdown",
      "source": [
        "PRACTICAL QUESTIONS"
      ],
      "metadata": {
        "id": "JN15c6fpUUIM"
      }
    },
    {
      "cell_type": "code",
      "source": [
        "# Write a Python program to print \"Hello, World!\"?\n",
        "\"\"\"\n",
        "print(\"Hello, World!\")\n",
        "\"\"\""
      ],
      "metadata": {
        "colab": {
          "base_uri": "https://localhost:8080/",
          "height": 36
        },
        "id": "_ADJ13wET7QF",
        "outputId": "cbf0a090-c8a2-4882-a718-ceb35b7dfa54"
      },
      "execution_count": 18,
      "outputs": [
        {
          "output_type": "execute_result",
          "data": {
            "text/plain": [
              "'\\nprint(\"Hello, World!\")\\n'"
            ],
            "application/vnd.google.colaboratory.intrinsic+json": {
              "type": "string"
            }
          },
          "metadata": {},
          "execution_count": 18
        }
      ]
    },
    {
      "cell_type": "code",
      "source": [
        "#Write a Python program that displays your name and age?\n",
        "\"\"\"\n",
        "Name = \"Venkateswar\"\n",
        "Age = 18\n",
        "Print(\"my name is\",name)\n",
        "Print(\"I'm\",age,\"Years old\")\n",
        "\"\"\""
      ],
      "metadata": {
        "colab": {
          "base_uri": "https://localhost:8080/",
          "height": 36
        },
        "id": "8gdSy4AQU7dq",
        "outputId": "a596a667-8e3f-4dd4-f8f9-08c41067d9dd"
      },
      "execution_count": 19,
      "outputs": [
        {
          "output_type": "execute_result",
          "data": {
            "text/plain": [
              "'\\nName = \"Venkateswar\"\\nAge = 18\\nPrint(\"my name is\",name)\\nPrint(\"I\\'m\",age,\"Years old\")\\n'"
            ],
            "application/vnd.google.colaboratory.intrinsic+json": {
              "type": "string"
            }
          },
          "metadata": {},
          "execution_count": 19
        }
      ]
    },
    {
      "cell_type": "code",
      "source": [
        "#Write code to print all the pre-defined keywords in Python using the keyword library8\n",
        "\"\"\"\n",
        "import keyword\n",
        "\n",
        "print(\"python keywords:\")\n",
        "print(keyword.kwlist)\n",
        "\"\"\""
      ],
      "metadata": {
        "colab": {
          "base_uri": "https://localhost:8080/",
          "height": 36
        },
        "id": "CL-mesWZXnuj",
        "outputId": "15cc7d7b-e98c-4fc5-a758-b48133c7a0d9"
      },
      "execution_count": 20,
      "outputs": [
        {
          "output_type": "execute_result",
          "data": {
            "text/plain": [
              "'\\nimport keyword\\n\\nprint(\"python keywords:\")\\nprint(keyword.kwlist)\\n'"
            ],
            "application/vnd.google.colaboratory.intrinsic+json": {
              "type": "string"
            }
          },
          "metadata": {},
          "execution_count": 20
        }
      ]
    },
    {
      "cell_type": "code",
      "source": [
        "#Write a program that checks if a given word is a Python keyword?\n",
        "\"\"\"\n",
        "import keyword\n",
        "\n",
        "word = input(\"Enter a word: \")\n",
        "\n",
        "if keyword.iskeyword(word):\n",
        "    print(f\"'{word}' is a Python keyword.\")\n",
        "else:\n",
        "    print(f\"'{word}' is NOT a Python keyword.\")\n",
        "\"\"\""
      ],
      "metadata": {
        "colab": {
          "base_uri": "https://localhost:8080/",
          "height": 55
        },
        "id": "APouXkgWZuFc",
        "outputId": "9a6443e1-792b-4514-b0f2-5f3c13fe903d"
      },
      "execution_count": 21,
      "outputs": [
        {
          "output_type": "execute_result",
          "data": {
            "text/plain": [
              "'\\nimport keyword\\n\\nword = input(\"Enter a word: \")\\n\\nif keyword.iskeyword(word):\\n    print(f\"\\'{word}\\' is a Python keyword.\")\\nelse:\\n    print(f\"\\'{word}\\' is NOT a Python keyword.\")\\n'"
            ],
            "application/vnd.google.colaboratory.intrinsic+json": {
              "type": "string"
            }
          },
          "metadata": {},
          "execution_count": 21
        }
      ]
    },
    {
      "cell_type": "code",
      "source": [
        "# Write a for loop to print numbers from 1 to 10.?\n",
        "\"\"\"\n",
        "for i in range(1,11):\n",
        "print(i)\n",
        "\"\"\""
      ],
      "metadata": {
        "colab": {
          "base_uri": "https://localhost:8080/",
          "height": 36
        },
        "id": "cn7cswDoa1VM",
        "outputId": "133c7b47-c74f-4323-91aa-2cce296a8747"
      },
      "execution_count": 22,
      "outputs": [
        {
          "output_type": "execute_result",
          "data": {
            "text/plain": [
              "'\\nfor i range(1,10)\\nprint(I)\\n'"
            ],
            "application/vnd.google.colaboratory.intrinsic+json": {
              "type": "string"
            }
          },
          "metadata": {},
          "execution_count": 22
        }
      ]
    }
  ]
}